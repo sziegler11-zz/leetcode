{
 "cells": [
  {
   "cell_type": "code",
   "execution_count": 9,
   "metadata": {
    "collapsed": false
   },
   "outputs": [
    {
     "name": "stdout",
     "output_type": "stream",
     "text": [
      "False\n"
     ]
    }
   ],
   "source": [
    "def isPalindrome(s):\n",
    "    m = len(s)\n",
    "    for i in range(m/2):\n",
    "        if s[i] != s[m-i-1]:\n",
    "            return False\n",
    "    return True\n",
    "\n",
    "print isPalindrome(\"cattbc\")"
   ]
  },
  {
   "cell_type": "code",
   "execution_count": 10,
   "metadata": {
    "collapsed": false
   },
   "outputs": [
    {
     "name": "stdout",
     "output_type": "stream",
     "text": [
      "[[0, 1], [1, 0]]\n"
     ]
    }
   ],
   "source": [
    "def brute_force(L):\n",
    "    paliList = []\n",
    "    n = len(L)\n",
    "    for i in range(n):\n",
    "        for j in range(i+1,n):\n",
    "            if isPalindrome(L[i]+L[j]):\n",
    "                paliList.append([i,j])\n",
    "            if isPalindrome(L[j]+L[i]):\n",
    "                paliList.append([j,i])\n",
    "    return paliList\n",
    "\n",
    "words = ['bat', 'tab', 'cat']\n",
    "print brute_force(words)\n",
    "    \n",
    "    "
   ]
  }
 ],
 "metadata": {
  "kernelspec": {
   "display_name": "Python 2",
   "language": "python",
   "name": "python2"
  },
  "language_info": {
   "codemirror_mode": {
    "name": "ipython",
    "version": 2
   },
   "file_extension": ".py",
   "mimetype": "text/x-python",
   "name": "python",
   "nbconvert_exporter": "python",
   "pygments_lexer": "ipython2",
   "version": "2.7.9"
  }
 },
 "nbformat": 4,
 "nbformat_minor": 0
}
